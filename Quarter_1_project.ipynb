{
 "cells": [
  {
   "cell_type": "markdown",
   "id": "c852cfcb",
   "metadata": {},
   "source": [
    "# DSC180A - Q1 Project\n",
    "\n",
    "Henry Luu B09"
   ]
  },
  {
   "cell_type": "code",
   "execution_count": null,
   "id": "6e46b68d",
   "metadata": {},
   "outputs": [],
   "source": [
    "import csv\n",
    "import pandas as pd\n",
    "import numpy as np\n",
    "from sklearn.model_selection import train_test_split\n",
    "from sklearn.tree import DecisionTreeClassifier\n",
    "from sklearn.linear_model import LogisticRegression\n",
    "from sklearn.metrics import accuracy_score, classification_report, confusion_matrix\n",
    "from sklearn.tree import plot_tree\n",
    "import matplotlib.pyplot as plt"
   ]
  },
  {
   "cell_type": "markdown",
   "id": "a207ce99",
   "metadata": {},
   "source": [
    "## Liar Liar Dataset"
   ]
  },
  {
   "cell_type": "code",
   "execution_count": null,
   "id": "3b9218de",
   "metadata": {},
   "outputs": [],
   "source": [
    "columns = ['ID', 'Label', 'Statement', 'Subject(s)', 'Speaker','Speaker\\'s Job Title', 'State Info', 'Party Affiliation','Barely True', 'False', 'Half True', 'Mostly True', 'Pants on Fire','Context']\n",
    "df = pd.read_csv('train.tsv', delimiter='\\t', header = None, quoting=csv.QUOTE_NONE)\n",
    "df.head()"
   ]
  },
  {
   "cell_type": "code",
   "execution_count": null,
   "id": "92b42332",
   "metadata": {},
   "outputs": [],
   "source": [
    "df.describe()"
   ]
  },
  {
   "cell_type": "code",
   "execution_count": null,
   "id": "c28bceff",
   "metadata": {},
   "outputs": [],
   "source": [
    "df.dtypes"
   ]
  },
  {
   "cell_type": "code",
   "execution_count": null,
   "id": "15fb024e",
   "metadata": {},
   "outputs": [],
   "source": [
    "df[1].unique()"
   ]
  },
  {
   "cell_type": "code",
   "execution_count": null,
   "id": "b9fcf8f0",
   "metadata": {},
   "outputs": [],
   "source": [
    "#distribution of labels\n",
    "label_counts = df[1].value_counts()\n",
    "plt.figure(figsize=(8, 6))\n",
    "plt.bar(label_counts.index, label_counts.values)\n",
    "plt.title('Distribution of Veracity Labels')\n",
    "plt.xlabel('Label')\n",
    "plt.ylabel('Count')\n",
    "plt.show()"
   ]
  },
  {
   "cell_type": "code",
   "execution_count": null,
   "id": "3ca0394d",
   "metadata": {},
   "outputs": [],
   "source": [
    "X = df.iloc[:, 8:-1] \n",
    "y = df[1]         \n",
    "\n",
    "X_train, X_test, y_train, y_test = train_test_split(X, y, test_size=0.2, random_state=42)"
   ]
  },
  {
   "cell_type": "code",
   "execution_count": null,
   "id": "adc552fd",
   "metadata": {},
   "outputs": [],
   "source": [
    "clf = DecisionTreeClassifier()\n",
    "clf.fit(X_train, y_train)"
   ]
  },
  {
   "cell_type": "code",
   "execution_count": null,
   "id": "dabd2d7d",
   "metadata": {},
   "outputs": [],
   "source": [
    "y_train_pred = clf.predict(X_train)\n",
    "train_accuracy = accuracy_score(y_train, y_train_pred)\n",
    "print(f\"Train Accuracy: {train_accuracy:.2f}\")\n"
   ]
  },
  {
   "cell_type": "code",
   "execution_count": null,
   "id": "fe0c05c9",
   "metadata": {},
   "outputs": [],
   "source": [
    "y_pred = clf.predict(X_test)\n",
    "\n",
    "accuracy = accuracy_score(y_test, y_pred)\n",
    "print(f\"Accuracy: {accuracy:.2f}\")\n",
    "\n",
    "print(classification_report(y_test, y_pred))\n",
    "print(\"Confusion Matrix:\")\n",
    "print(confusion_matrix(y_test, y_pred))"
   ]
  },
  {
   "cell_type": "code",
   "execution_count": null,
   "id": "9f708d58",
   "metadata": {},
   "outputs": [],
   "source": [
    "plt.figure(figsize=(100, 100))\n",
    "plot_tree(clf, filled=True, feature_names=X.columns, class_names=clf.classes_)\n",
    "plt.show()"
   ]
  },
  {
   "cell_type": "markdown",
   "id": "b7ff23e4",
   "metadata": {},
   "source": [
    "# Word embeddings\n"
   ]
  },
  {
   "cell_type": "code",
   "execution_count": null,
   "id": "44dcf28b",
   "metadata": {},
   "outputs": [],
   "source": [
    "import sys\n",
    "import site\n",
    "user_site_packages = site.USER_SITE\n",
    "sys.path.append(user_site_packages)\n",
    "print(sys.path)"
   ]
  },
  {
   "cell_type": "code",
   "execution_count": null,
   "id": "867bbcf6",
   "metadata": {},
   "outputs": [],
   "source": [
    "from sklearn.ensemble import RandomForestClassifier"
   ]
  },
  {
   "cell_type": "code",
   "execution_count": null,
   "id": "22e49988",
   "metadata": {
    "scrolled": false
   },
   "outputs": [],
   "source": [
    "!pip install --user transformers"
   ]
  },
  {
   "cell_type": "code",
   "execution_count": null,
   "id": "199059bc",
   "metadata": {},
   "outputs": [],
   "source": [
    "import transformers\n",
    "from transformers import BertTokenizer, BertModel\n",
    "\n",
    "tokenizer = BertTokenizer.from_pretrained('bert-base-uncased')\n",
    "model = BertModel.from_pretrained('bert-base-uncased')"
   ]
  },
  {
   "cell_type": "code",
   "execution_count": null,
   "id": "c424a7da",
   "metadata": {},
   "outputs": [],
   "source": [
    "statements = df[2].tolist()\n",
    "labels = df[1].tolist()"
   ]
  },
  {
   "cell_type": "code",
   "execution_count": null,
   "id": "ad64181d",
   "metadata": {},
   "outputs": [],
   "source": [
    "#tokenizeing the statements\n",
    "tokenized_statements = [tokenizer(statement, return_tensors=\"pt\", truncation=True, padding=True) for statement in statements]"
   ]
  },
  {
   "cell_type": "code",
   "execution_count": null,
   "id": "2a6303e8",
   "metadata": {},
   "outputs": [],
   "source": [
    "import torch\n",
    "\n",
    "# Use GPU\n",
    "device = torch.device(\"cuda\" if torch.cuda.is_available() else \"cpu\")\n",
    "model = model.to(device)\n",
    "\n",
    "# Move tokenized statements to GPU\n",
    "tokenized_statements_gpu = [inputs.to(device) for inputs in tokenized_statements]\n",
    "\n",
    "# Extract BERT embeddings\n",
    "with torch.no_grad():\n",
    "    model.eval()\n",
    "    statement_embeddings = [model(**inputs).last_hidden_state.mean(dim=1).cpu().numpy() for inputs in tokenized_statements_gpu]"
   ]
  },
  {
   "cell_type": "code",
   "execution_count": null,
   "id": "e4aef948",
   "metadata": {},
   "outputs": [],
   "source": [
    "#flatten\n",
    "X_embeddings = np.vstack(statement_embeddings)\n",
    "X_train, X_test, y_train, y_test = train_test_split(X_embeddings, labels, test_size=0.2, random_state=42)\n"
   ]
  },
  {
   "cell_type": "code",
   "execution_count": null,
   "id": "c32be569",
   "metadata": {},
   "outputs": [],
   "source": [
    "#combine the truth counts with the embeddings\n",
    "X = df.iloc[:, 8:-1] \n",
    "X_embeddings_df = pd.DataFrame(X_embeddings, columns=[f\"embedding_{i}\" for i in range(X_embeddings.shape[1])])\n",
    "X_combined = pd.concat([X, X_embeddings_df], axis=1)\n",
    "X_train, X_test, y_train, y_test = train_test_split(X_combined, labels, test_size=0.2, random_state=42)"
   ]
  },
  {
   "cell_type": "code",
   "execution_count": null,
   "id": "f8fba40d",
   "metadata": {},
   "outputs": [],
   "source": [
    "clf = LogisticRegression(max_iter=1000)\n",
    "clf.fit(X_train, y_train)\n",
    "y_pred = clf.predict(X_test)\n",
    "print(classification_report(y_test, y_pred))"
   ]
  },
  {
   "cell_type": "code",
   "execution_count": null,
   "id": "b56a66e8",
   "metadata": {},
   "outputs": [],
   "source": [
    "clf = DecisionTreeClassifier()\n",
    "clf.fit(X_train, y_train)\n",
    "y_pred = clf.predict(X_test)\n",
    "accuracy = accuracy_score(y_test, y_pred)\n",
    "print(f\"Accuracy: {accuracy:.2f}\")\n",
    "print(classification_report(y_test, y_pred))\n",
    "print(confusion_matrix(y_test, y_pred))"
   ]
  },
  {
   "cell_type": "code",
   "execution_count": null,
   "id": "bc9f0bbe",
   "metadata": {},
   "outputs": [],
   "source": [
    "from sklearn.ensemble import RandomForestClassifier\n",
    "rf_classifier = RandomForestClassifier(n_estimators=100, random_state=42)\n",
    "rf_classifier.fit(X_train, y_train)\n",
    "y_pred = rf_classifier.predict(X_test)\n",
    "print(classification_report(y_test, y_pred))"
   ]
  },
  {
   "cell_type": "code",
   "execution_count": null,
   "id": "9e7b0957",
   "metadata": {},
   "outputs": [],
   "source": []
  },
  {
   "cell_type": "code",
   "execution_count": null,
   "id": "af4fda23",
   "metadata": {},
   "outputs": [],
   "source": []
  }
 ],
 "metadata": {
  "kernelspec": {
   "display_name": "Python 3 (clean)",
   "language": "python",
   "name": "python3_clean"
  },
  "language_info": {
   "codemirror_mode": {
    "name": "ipython",
    "version": 3
   },
   "file_extension": ".py",
   "mimetype": "text/x-python",
   "name": "python",
   "nbconvert_exporter": "python",
   "pygments_lexer": "ipython3",
   "version": "3.9.5"
  }
 },
 "nbformat": 4,
 "nbformat_minor": 5
}
